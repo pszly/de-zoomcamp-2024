{
 "cells": [
  {
   "cell_type": "markdown",
   "id": "8ec7be22-48f8-4f22-8742-10622c1e4d53",
   "metadata": {
    "tags": []
   },
   "source": [
    "# __Homework:__ Data talks club data engineering zoomcamp Data loading workshop\n",
    "Hello folks, let's practice what we learned - Loading data with the best practices of data engineering.\n",
    "Here are the exercises we will do.\n",
    "\n",
    "## 1. Use a generator\n",
    "Remember the concept of generator? Let's practice using them to futher our understanding of how they work.\n",
    "Let's define a generator and then run it as practice.\n",
    "\n",
    "__Answer the following questions:__\n",
    "\n",
    "_(I suggest practicing these questions without GPT as the purpose is to further your learning.)_\n",
    "\n",
    "\n",
    "#### __Q1 - What is the sum of the outputs of the generator for limit = 5?__"
   ]
  },
  {
   "cell_type": "code",
   "execution_count": 1,
   "id": "61a4a6f2-f517-480f-8acc-2c3c9516dfe0",
   "metadata": {
    "tags": []
   },
   "outputs": [
    {
     "name": "stdout",
     "output_type": "stream",
     "text": [
      "8.382332347441762\n"
     ]
    }
   ],
   "source": [
    "import dlt\n",
    "import duckdb\n",
    "\n",
    "def square_root_generator(limit):\n",
    "    n = 1\n",
    "    while n <= limit:\n",
    "        yield n ** 0.5\n",
    "        n += 1\n",
    "\n",
    "# Example usage:\n",
    "limit = 5\n",
    "generator = square_root_generator(limit)\n",
    "\n",
    "sum_ = 0.0\n",
    "\n",
    "for sqrt_value in generator:\n",
    "    sum_ += sqrt_value\n",
    "    \n",
    "print(sum_)"
   ]
  },
  {
   "cell_type": "markdown",
   "id": "ecf0cae9-b67c-4ee5-81da-3aa69bd6455c",
   "metadata": {
    "tags": []
   },
   "source": [
    "\n",
    "\n",
    "#### __Q2 - What is the 13th number yielded?__"
   ]
  },
  {
   "cell_type": "code",
   "execution_count": 2,
   "id": "cd1443ee-06b8-4ae7-b050-40f2a9d17cec",
   "metadata": {},
   "outputs": [
    {
     "name": "stdout",
     "output_type": "stream",
     "text": [
      "13: 3.605551275463989\n"
     ]
    }
   ],
   "source": [
    "limit = 13\n",
    "generator = square_root_generator(limit)\n",
    "\n",
    "i = 0\n",
    "for sqrt_value in generator:\n",
    "    i += 1\n",
    "    if limit == i:\n",
    "        print(f'{i}: {sqrt_value}')"
   ]
  },
  {
   "cell_type": "markdown",
   "id": "ba5b496d-9aef-46fa-b7df-75148adf7586",
   "metadata": {},
   "source": [
    "\n",
    "## 2. Append a generator to a table with existing data\n",
    "\n",
    "Below you have 2 generators. You will be tasked to load them to duckdb and answer some questions from the data.\n",
    "\n",
    "1. Load the first generator and calculate the sum of ages of all people. Make sure to only load it once.\n",
    "2. Append the second generator to the same table as the first."
   ]
  },
  {
   "cell_type": "code",
   "execution_count": 3,
   "id": "6360c774-8528-4389-8fef-0ced7c09870f",
   "metadata": {
    "tags": []
   },
   "outputs": [
    {
     "name": "stdout",
     "output_type": "stream",
     "text": [
      "{'ID': 1, 'Name': 'Person_1', 'Age': 26, 'City': 'City_A'}\n",
      "{'ID': 2, 'Name': 'Person_2', 'Age': 27, 'City': 'City_A'}\n",
      "{'ID': 3, 'Name': 'Person_3', 'Age': 28, 'City': 'City_A'}\n",
      "{'ID': 4, 'Name': 'Person_4', 'Age': 29, 'City': 'City_A'}\n",
      "{'ID': 5, 'Name': 'Person_5', 'Age': 30, 'City': 'City_A'}\n",
      "{'ID': 3, 'Name': 'Person_3', 'Age': 33, 'City': 'City_B', 'Occupation': 'Job_3'}\n",
      "{'ID': 4, 'Name': 'Person_4', 'Age': 34, 'City': 'City_B', 'Occupation': 'Job_4'}\n",
      "{'ID': 5, 'Name': 'Person_5', 'Age': 35, 'City': 'City_B', 'Occupation': 'Job_5'}\n",
      "{'ID': 6, 'Name': 'Person_6', 'Age': 36, 'City': 'City_B', 'Occupation': 'Job_6'}\n",
      "{'ID': 7, 'Name': 'Person_7', 'Age': 37, 'City': 'City_B', 'Occupation': 'Job_7'}\n",
      "{'ID': 8, 'Name': 'Person_8', 'Age': 38, 'City': 'City_B', 'Occupation': 'Job_8'}\n"
     ]
    }
   ],
   "source": [
    "def people_1():\n",
    "    for i in range(1, 6):\n",
    "        yield {\"ID\": i, \"Name\": f\"Person_{i}\", \"Age\": 25 + i, \"City\": \"City_A\"}\n",
    "\n",
    "for person in people_1():\n",
    "    print(person)\n",
    "\n",
    "\n",
    "def people_2():\n",
    "    for i in range(3, 9):\n",
    "        yield {\"ID\": i, \"Name\": f\"Person_{i}\", \"Age\": 30 + i, \"City\": \"City_B\", \"Occupation\": f\"Job_{i}\"}\n",
    "\n",
    "\n",
    "for person in people_2():\n",
    "    print(person)\n"
   ]
  },
  {
   "cell_type": "code",
   "execution_count": 4,
   "id": "4b031e6d-6926-4623-89ec-63e07e361979",
   "metadata": {
    "tags": []
   },
   "outputs": [
    {
     "name": "stdout",
     "output_type": "stream",
     "text": [
      "Pipeline dlt_ipykernel_launcher load step completed in 0.17 seconds\n",
      "1 load package(s) were loaded to destination duckdb and into dataset generators\n",
      "The duckdb destination used duckdb:////Users/peter/Sources/de-zoomcamp/_workshop_dlt/dlt_ipykernel_launcher.duckdb location to store data\n",
      "Load package 1708378485.313148 is LOADED and contains no failed jobs\n"
     ]
    }
   ],
   "source": [
    "generators_pipeline = dlt.pipeline(destination='duckdb', dataset_name='generators')\n",
    "\n",
    "info = generators_pipeline.run(people_1(),\n",
    "\t\t\t\t\t\t\t\ttable_name=\"people_01\",\n",
    "\t\t\t\t\t\t\t\twrite_disposition=\"replace\")\n",
    "\n",
    "info = generators_pipeline.run(people_2(),\n",
    "\t\t\t\t\t\t\t\ttable_name=\"people_01\",\n",
    "\t\t\t\t\t\t\t\twrite_disposition=\"append\")\n",
    "\n",
    "print(info)"
   ]
  },
  {
   "cell_type": "code",
   "execution_count": 8,
   "id": "9bd44f96-1253-49d4-9ecb-b0a92d26eb14",
   "metadata": {
    "tags": []
   },
   "outputs": [
    {
     "name": "stdout",
     "output_type": "stream",
     "text": [
      "Loaded tables: \n"
     ]
    },
    {
     "data": {
      "text/plain": [
       "┌─────────────────────┐\n",
       "│        name         │\n",
       "│       varchar       │\n",
       "├─────────────────────┤\n",
       "│ _dlt_loads          │\n",
       "│ _dlt_pipeline_state │\n",
       "│ _dlt_version        │\n",
       "│ people_01           │\n",
       "│ people_02           │\n",
       "└─────────────────────┘"
      ]
     },
     "metadata": {},
     "output_type": "display_data"
    },
    {
     "name": "stdout",
     "output_type": "stream",
     "text": [
      "\n",
      "\n",
      "\n",
      " http_download table below:\n"
     ]
    },
    {
     "data": {
      "text/html": [
       "<div>\n",
       "<style scoped>\n",
       "    .dataframe tbody tr th:only-of-type {\n",
       "        vertical-align: middle;\n",
       "    }\n",
       "\n",
       "    .dataframe tbody tr th {\n",
       "        vertical-align: top;\n",
       "    }\n",
       "\n",
       "    .dataframe thead th {\n",
       "        text-align: right;\n",
       "    }\n",
       "</style>\n",
       "<table border=\"1\" class=\"dataframe\">\n",
       "  <thead>\n",
       "    <tr style=\"text-align: right;\">\n",
       "      <th></th>\n",
       "      <th>id</th>\n",
       "      <th>name</th>\n",
       "      <th>age</th>\n",
       "      <th>city</th>\n",
       "      <th>_dlt_load_id</th>\n",
       "      <th>_dlt_id</th>\n",
       "      <th>occupation</th>\n",
       "    </tr>\n",
       "  </thead>\n",
       "  <tbody>\n",
       "    <tr>\n",
       "      <th>0</th>\n",
       "      <td>1</td>\n",
       "      <td>Person_1</td>\n",
       "      <td>26</td>\n",
       "      <td>City_A</td>\n",
       "      <td>1708378519.994505</td>\n",
       "      <td>x4WUYtkh/rtStQ</td>\n",
       "      <td>None</td>\n",
       "    </tr>\n",
       "    <tr>\n",
       "      <th>1</th>\n",
       "      <td>2</td>\n",
       "      <td>Person_2</td>\n",
       "      <td>27</td>\n",
       "      <td>City_A</td>\n",
       "      <td>1708378519.994505</td>\n",
       "      <td>zuIHSbvgn8DUEA</td>\n",
       "      <td>None</td>\n",
       "    </tr>\n",
       "    <tr>\n",
       "      <th>2</th>\n",
       "      <td>3</td>\n",
       "      <td>Person_3</td>\n",
       "      <td>28</td>\n",
       "      <td>City_A</td>\n",
       "      <td>1708378519.994505</td>\n",
       "      <td>MeqgQXnxiap4Cw</td>\n",
       "      <td>None</td>\n",
       "    </tr>\n",
       "    <tr>\n",
       "      <th>3</th>\n",
       "      <td>4</td>\n",
       "      <td>Person_4</td>\n",
       "      <td>29</td>\n",
       "      <td>City_A</td>\n",
       "      <td>1708378519.994505</td>\n",
       "      <td>Fq1HgAh0FQEgww</td>\n",
       "      <td>None</td>\n",
       "    </tr>\n",
       "    <tr>\n",
       "      <th>4</th>\n",
       "      <td>5</td>\n",
       "      <td>Person_5</td>\n",
       "      <td>30</td>\n",
       "      <td>City_A</td>\n",
       "      <td>1708378519.994505</td>\n",
       "      <td>2R93B8rWQwzQdg</td>\n",
       "      <td>None</td>\n",
       "    </tr>\n",
       "    <tr>\n",
       "      <th>5</th>\n",
       "      <td>3</td>\n",
       "      <td>Person_3</td>\n",
       "      <td>33</td>\n",
       "      <td>City_B</td>\n",
       "      <td>1708378520.552543</td>\n",
       "      <td>PxG28QnGepqcTw</td>\n",
       "      <td>Job_3</td>\n",
       "    </tr>\n",
       "    <tr>\n",
       "      <th>6</th>\n",
       "      <td>4</td>\n",
       "      <td>Person_4</td>\n",
       "      <td>34</td>\n",
       "      <td>City_B</td>\n",
       "      <td>1708378520.552543</td>\n",
       "      <td>FBHCJfCGeKobIw</td>\n",
       "      <td>Job_4</td>\n",
       "    </tr>\n",
       "    <tr>\n",
       "      <th>7</th>\n",
       "      <td>5</td>\n",
       "      <td>Person_5</td>\n",
       "      <td>35</td>\n",
       "      <td>City_B</td>\n",
       "      <td>1708378520.552543</td>\n",
       "      <td>cCOtKjDYB1Wpkw</td>\n",
       "      <td>Job_5</td>\n",
       "    </tr>\n",
       "    <tr>\n",
       "      <th>8</th>\n",
       "      <td>6</td>\n",
       "      <td>Person_6</td>\n",
       "      <td>36</td>\n",
       "      <td>City_B</td>\n",
       "      <td>1708378520.552543</td>\n",
       "      <td>eG9QfRSPJcRnyA</td>\n",
       "      <td>Job_6</td>\n",
       "    </tr>\n",
       "    <tr>\n",
       "      <th>9</th>\n",
       "      <td>7</td>\n",
       "      <td>Person_7</td>\n",
       "      <td>37</td>\n",
       "      <td>City_B</td>\n",
       "      <td>1708378520.552543</td>\n",
       "      <td>ocJHCcL8ajl74Q</td>\n",
       "      <td>Job_7</td>\n",
       "    </tr>\n",
       "    <tr>\n",
       "      <th>10</th>\n",
       "      <td>8</td>\n",
       "      <td>Person_8</td>\n",
       "      <td>38</td>\n",
       "      <td>City_B</td>\n",
       "      <td>1708378520.552543</td>\n",
       "      <td>+GIYmED+te3ZyA</td>\n",
       "      <td>Job_8</td>\n",
       "    </tr>\n",
       "  </tbody>\n",
       "</table>\n",
       "</div>"
      ],
      "text/plain": [
       "    id      name  age    city       _dlt_load_id         _dlt_id occupation\n",
       "0    1  Person_1   26  City_A  1708378519.994505  x4WUYtkh/rtStQ       None\n",
       "1    2  Person_2   27  City_A  1708378519.994505  zuIHSbvgn8DUEA       None\n",
       "2    3  Person_3   28  City_A  1708378519.994505  MeqgQXnxiap4Cw       None\n",
       "3    4  Person_4   29  City_A  1708378519.994505  Fq1HgAh0FQEgww       None\n",
       "4    5  Person_5   30  City_A  1708378519.994505  2R93B8rWQwzQdg       None\n",
       "5    3  Person_3   33  City_B  1708378520.552543  PxG28QnGepqcTw      Job_3\n",
       "6    4  Person_4   34  City_B  1708378520.552543  FBHCJfCGeKobIw      Job_4\n",
       "7    5  Person_5   35  City_B  1708378520.552543  cCOtKjDYB1Wpkw      Job_5\n",
       "8    6  Person_6   36  City_B  1708378520.552543  eG9QfRSPJcRnyA      Job_6\n",
       "9    7  Person_7   37  City_B  1708378520.552543  ocJHCcL8ajl74Q      Job_7\n",
       "10   8  Person_8   38  City_B  1708378520.552543  +GIYmED+te3ZyA      Job_8"
      ]
     },
     "metadata": {},
     "output_type": "display_data"
    }
   ],
   "source": [
    "conn = duckdb.connect(f\"{generators_pipeline.pipeline_name}.duckdb\")\n",
    "\n",
    "# let's see the tables\n",
    "conn.sql(f\"SET search_path = '{generators_pipeline.dataset_name}'\")\n",
    "print('Loaded tables: ')\n",
    "display(conn.sql(\"show tables\"))\n",
    "\n",
    "# and the data\n",
    "\n",
    "print(\"\\n\\n\\n http_download table below:\")\n",
    "\n",
    "rides = conn.sql(\"SELECT * FROM people_01\").df()\n",
    "display(rides)"
   ]
  },
  {
   "cell_type": "markdown",
   "id": "777cfc78-ab20-4e13-b292-7d7f7ec90735",
   "metadata": {
    "tags": []
   },
   "source": [
    "#### __Q3.__ _(Append the 2 generators.)_ __Calculate the sum of all ages of people!__"
   ]
  },
  {
   "cell_type": "code",
   "execution_count": 12,
   "id": "78a9a829-5da8-4119-92b9-06a3761990e6",
   "metadata": {
    "tags": []
   },
   "outputs": [
    {
     "name": "stdout",
     "output_type": "stream",
     "text": [
      "Pipeline dlt_ipykernel_launcher load step completed in 0.16 seconds\n",
      "1 load package(s) were loaded to destination duckdb and into dataset generators\n",
      "The duckdb destination used duckdb:////Users/peter/Sources/de-zoomcamp/_workshop_dlt/dlt_ipykernel_launcher.duckdb location to store data\n",
      "Load package 1708378631.5556102 is LOADED and contains no failed jobs\n"
     ]
    },
    {
     "data": {
      "text/html": [
       "<div>\n",
       "<style scoped>\n",
       "    .dataframe tbody tr th:only-of-type {\n",
       "        vertical-align: middle;\n",
       "    }\n",
       "\n",
       "    .dataframe tbody tr th {\n",
       "        vertical-align: top;\n",
       "    }\n",
       "\n",
       "    .dataframe thead th {\n",
       "        text-align: right;\n",
       "    }\n",
       "</style>\n",
       "<table border=\"1\" class=\"dataframe\">\n",
       "  <thead>\n",
       "    <tr style=\"text-align: right;\">\n",
       "      <th></th>\n",
       "      <th>sum(age)</th>\n",
       "    </tr>\n",
       "  </thead>\n",
       "  <tbody>\n",
       "    <tr>\n",
       "      <th>0</th>\n",
       "      <td>353.0</td>\n",
       "    </tr>\n",
       "  </tbody>\n",
       "</table>\n",
       "</div>"
      ],
      "text/plain": [
       "   sum(age)\n",
       "0     353.0"
      ]
     },
     "metadata": {},
     "output_type": "display_data"
    }
   ],
   "source": [
    "generators_pipeline = dlt.pipeline(destination='duckdb', dataset_name='generators')\n",
    "\n",
    "info = generators_pipeline.run(people_1(),\n",
    "\t\t\t\t\t\t\t\ttable_name=\"people_01\",\n",
    "\t\t\t\t\t\t\t\twrite_disposition=\"replace\")\n",
    "\n",
    "info = generators_pipeline.run(people_2(),\n",
    "\t\t\t\t\t\t\t\ttable_name=\"people_01\",\n",
    "\t\t\t\t\t\t\t\twrite_disposition=\"append\")\n",
    "\n",
    "print(info)\n",
    "\n",
    "\n",
    "conn = duckdb.connect(f\"{generators_pipeline.pipeline_name}.duckdb\")\n",
    "\n",
    "# let's see the tables\n",
    "conn.sql(f\"SET search_path = '{generators_pipeline.dataset_name}'\")\n",
    "\n",
    "people_01 = conn.sql(\"SELECT * FROM people_01\").df()\n",
    "\n",
    "sum_ages_01 = conn.sql(\"SELECT SUM(age) FROM people_01\").df()\n",
    "display(sum_ages_01)"
   ]
  },
  {
   "cell_type": "markdown",
   "id": "f3179871-c51f-43db-a1f6-d9015df50fa0",
   "metadata": {
    "tags": []
   },
   "source": [
    "\n",
    "## 3. Merge a generator\n",
    "\n",
    "Re-use the generators from Exercise 2.\n",
    "\n",
    "A table's primary key needs to be created from the start, so load your data to a new table with primary key ID.\n",
    "\n",
    "Load your first generator first, and then load the second one with merge. Since they have overlapping IDs, some of the records from the first load should be replaced by the ones from the second load.\n",
    "\n",
    "After loading, you should have a total of 8 records, and ID 3 should have age 33.\n",
    "\n",
    "#### __Q4.__ _(Merge the 2 generators using the ID column.)_ __Calculate the sum of ages of all the people!__"
   ]
  },
  {
   "cell_type": "code",
   "execution_count": 14,
   "id": "d37c1547-41f2-4b3b-a24c-7e45cd69df27",
   "metadata": {
    "tags": []
   },
   "outputs": [
    {
     "name": "stdout",
     "output_type": "stream",
     "text": [
      "Pipeline dlt_ipykernel_launcher load step completed in 0.15 seconds\n",
      "1 load package(s) were loaded to destination duckdb and into dataset generators\n",
      "The duckdb destination used duckdb:////Users/peter/Sources/de-zoomcamp/_workshop_dlt/dlt_ipykernel_launcher.duckdb location to store data\n",
      "Load package 1708378668.423502 is LOADED and contains no failed jobs\n",
      "Pipeline dlt_ipykernel_launcher load step completed in 0.31 seconds\n",
      "1 load package(s) were loaded to destination duckdb and into dataset generators\n",
      "The duckdb destination used duckdb:////Users/peter/Sources/de-zoomcamp/_workshop_dlt/dlt_ipykernel_launcher.duckdb location to store data\n",
      "Load package 1708378668.978562 is LOADED and contains no failed jobs\n"
     ]
    },
    {
     "data": {
      "text/html": [
       "<div>\n",
       "<style scoped>\n",
       "    .dataframe tbody tr th:only-of-type {\n",
       "        vertical-align: middle;\n",
       "    }\n",
       "\n",
       "    .dataframe tbody tr th {\n",
       "        vertical-align: top;\n",
       "    }\n",
       "\n",
       "    .dataframe thead th {\n",
       "        text-align: right;\n",
       "    }\n",
       "</style>\n",
       "<table border=\"1\" class=\"dataframe\">\n",
       "  <thead>\n",
       "    <tr style=\"text-align: right;\">\n",
       "      <th></th>\n",
       "      <th>sum(age)</th>\n",
       "    </tr>\n",
       "  </thead>\n",
       "  <tbody>\n",
       "    <tr>\n",
       "      <th>0</th>\n",
       "      <td>266.0</td>\n",
       "    </tr>\n",
       "  </tbody>\n",
       "</table>\n",
       "</div>"
      ],
      "text/plain": [
       "   sum(age)\n",
       "0     266.0"
      ]
     },
     "metadata": {},
     "output_type": "display_data"
    }
   ],
   "source": [
    "pipeline = dlt.pipeline(destination='duckdb', dataset_name='generators')\n",
    "\n",
    "info = generators_pipeline.run(people_1(),\n",
    "                    table_name=\"people_02\",\n",
    "                    write_disposition=\"replace\")\n",
    "\n",
    "print(info)\n",
    "\n",
    "\n",
    "info = pipeline.run(people_2(),\n",
    "                    table_name=\"people_02\",\n",
    "                    write_disposition=\"merge\",\n",
    "                    primary_key=\"id\")\n",
    "\n",
    "print(info)\n",
    "\n",
    "\n",
    "conn = duckdb.connect(f\"{generators_pipeline.pipeline_name}.duckdb\")\n",
    "\n",
    "conn.sql(f\"SET search_path = '{generators_pipeline.dataset_name}'\")\n",
    "\n",
    "people_02 = conn.sql(\"SELECT * FROM people_02\").df()\n",
    "\n",
    "sum_ages_02 = conn.sql(\"SELECT SUM(age) FROM people_02\").df()\n",
    "display(sum_ages_02)"
   ]
  },
  {
   "cell_type": "code",
   "execution_count": null,
   "id": "553fd3ff-fd4e-474e-9c39-bac505cd53d7",
   "metadata": {},
   "outputs": [],
   "source": []
  }
 ],
 "metadata": {
  "kernelspec": {
   "display_name": "Python 3 (ipykernel)",
   "language": "python",
   "name": "python3"
  },
  "language_info": {
   "codemirror_mode": {
    "name": "ipython",
    "version": 3
   },
   "file_extension": ".py",
   "mimetype": "text/x-python",
   "name": "python",
   "nbconvert_exporter": "python",
   "pygments_lexer": "ipython3",
   "version": "3.11.5"
  }
 },
 "nbformat": 4,
 "nbformat_minor": 5
}
