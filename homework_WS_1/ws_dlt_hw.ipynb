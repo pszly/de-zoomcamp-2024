{
 "cells": [
  {
   "cell_type": "markdown",
   "id": "8ec7be22-48f8-4f22-8742-10622c1e4d53",
   "metadata": {
    "tags": []
   },
   "source": [
    "# __Homework:__ Data talks club data engineering zoomcamp Data loading workshop\n",
    "Hello folks, let's practice what we learned - Loading data with the best practices of data engineering.\n",
    "Here are the exercises we will do\n",
    "\n",
    "## 1. Use a generator\n",
    "Remember the concept of generator? Let's practice using them to futher our understanding of how they work.\n",
    "Let's define a generator and then run it as practice.\n",
    "\n",
    "__Answer the following questions:__\n",
    "\n",
    "_(I suggest practicing these questions without GPT as the purpose is to further your learning.)_"
   ]
  },
  {
   "cell_type": "markdown",
   "id": "04e22fa9-201a-4c20-9996-0059ce986b54",
   "metadata": {},
   "source": [
    "#### Q1 - What is the sum of the outputs of the generator for limit = 5?"
   ]
  },
  {
   "cell_type": "code",
   "execution_count": 5,
   "id": "61a4a6f2-f517-480f-8acc-2c3c9516dfe0",
   "metadata": {
    "tags": []
   },
   "outputs": [
    {
     "name": "stdout",
     "output_type": "stream",
     "text": [
      "8.382332347441762\n"
     ]
    }
   ],
   "source": [
    "import dlt\n",
    "\n",
    "def square_root_generator(limit):\n",
    "    n = 1\n",
    "    while n <= limit:\n",
    "        yield n ** 0.5\n",
    "        n += 1\n",
    "\n",
    "# Example usage:\n",
    "limit = 5\n",
    "generator = square_root_generator(limit)\n",
    "\n",
    "sum_ = 0.0\n",
    "\n",
    "for sqrt_value in generator:\n",
    "    sum_ += sqrt_value\n",
    "    \n",
    "print(sum_)"
   ]
  },
  {
   "cell_type": "code",
   "execution_count": null,
   "id": "2749d656-c2a0-47bb-8411-4b93287a8274",
   "metadata": {},
   "outputs": [],
   "source": [
    "#### Q2 - What is the 13th number yielded?"
   ]
  },
  {
   "cell_type": "code",
   "execution_count": 6,
   "id": "cd1443ee-06b8-4ae7-b050-40f2a9d17cec",
   "metadata": {},
   "outputs": [
    {
     "ename": "SyntaxError",
     "evalue": "expected ':' (1523722676.py, line 7)",
     "output_type": "error",
     "traceback": [
      "\u001b[0;36m  Cell \u001b[0;32mIn[6], line 7\u001b[0;36m\u001b[0m\n\u001b[0;31m    if limit == i\u001b[0m\n\u001b[0m                 ^\u001b[0m\n\u001b[0;31mSyntaxError\u001b[0m\u001b[0;31m:\u001b[0m expected ':'\n"
     ]
    }
   ],
   "source": [
    "limit = 13\n",
    "generator = square_root_generator(limit)\n",
    "\n",
    "i = 0\n",
    "for sqrt_value in generator:\n",
    "    i += 1\n",
    "    if limit == i\n",
    "        print(f'{i}: {sqrt_value}'')"
   ]
  },
  {
   "cell_type": "code",
   "execution_count": null,
   "id": "b6134453-680b-46e4-9582-362d2e678119",
   "metadata": {},
   "outputs": [],
   "source": []
  }
 ],
 "metadata": {
  "kernelspec": {
   "display_name": "Python 3 (ipykernel)",
   "language": "python",
   "name": "python3"
  },
  "language_info": {
   "codemirror_mode": {
    "name": "ipython",
    "version": 3
   },
   "file_extension": ".py",
   "mimetype": "text/x-python",
   "name": "python",
   "nbconvert_exporter": "python",
   "pygments_lexer": "ipython3",
   "version": "3.11.5"
  }
 },
 "nbformat": 4,
 "nbformat_minor": 5
}
